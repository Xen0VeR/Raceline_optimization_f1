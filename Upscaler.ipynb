{
  "cells": [
    {
      "cell_type": "code",
      "execution_count": 2,
      "metadata": {
        "colab": {
          "base_uri": "https://localhost:8080/",
          "height": 1000
        },
        "id": "hYAhIXwJn4ox",
        "outputId": "d089b9a9-558b-4eda-ce79-d57447a8d9c1"
      },
      "outputs": [
        {
          "ename": "ValueError",
          "evalue": "Image not found or unable to load. Check the file path.",
          "output_type": "error",
          "traceback": [
            "\u001b[1;31m---------------------------------------------------------------------------\u001b[0m",
            "\u001b[1;31mValueError\u001b[0m                                Traceback (most recent call last)",
            "Cell \u001b[1;32mIn[2], line 8\u001b[0m\n\u001b[0;32m      6\u001b[0m \u001b[38;5;66;03m# Check if the image is loaded properly\u001b[39;00m\n\u001b[0;32m      7\u001b[0m \u001b[38;5;28;01mif\u001b[39;00m image \u001b[38;5;129;01mis\u001b[39;00m \u001b[38;5;28;01mNone\u001b[39;00m:\n\u001b[1;32m----> 8\u001b[0m     \u001b[38;5;28;01mraise\u001b[39;00m \u001b[38;5;167;01mValueError\u001b[39;00m(\u001b[38;5;124m\"\u001b[39m\u001b[38;5;124mImage not found or unable to load. Check the file path.\u001b[39m\u001b[38;5;124m\"\u001b[39m)\n\u001b[0;32m     10\u001b[0m \u001b[38;5;66;03m# Set the scaling factors (increase resolution by 2x or any other factor)\u001b[39;00m\n\u001b[0;32m     11\u001b[0m scale_factor_x \u001b[38;5;241m=\u001b[39m \u001b[38;5;241m2\u001b[39m  \u001b[38;5;66;03m# Increase resolution in the X direction\u001b[39;00m\n",
            "\u001b[1;31mValueError\u001b[0m: Image not found or unable to load. Check the file path."
          ]
        }
      ],
      "source": [
        "import cv2\n",
        "\n",
        "# Load the image (replace with the path to your image file on your local machine)\n",
        "image = cv2.imread('path')\n",
        "\n",
        "# Check if the image is loaded properly\n",
        "if image is None:\n",
        "    raise ValueError(\"Image not found or unable to load. Check the file path.\")\n",
        "\n",
        "# Set the scaling factors (increase resolution by 2x or any other factor)\n",
        "scale_factor_x = 2  # Increase resolution in the X direction\n",
        "scale_factor_y = 2  # Increase resolution in the Y direction\n",
        "\n",
        "# Get original dimensions\n",
        "height, width = image.shape[:2]\n",
        "\n",
        "# Resize the image using Lanczos interpolation (or you can use INTER_CUBIC)\n",
        "resized_image = cv2.resize(image, (int(width * scale_factor_x), int(height * scale_factor_y)), interpolation=cv2.INTER_LANCZOS4)\n",
        "\n",
        "# Save the upscaled image\n",
        "cv2.imwrite('upscaled_image.jpg', resized_image)\n",
        "\n",
        "# Optional: Show the result\n",
        "print(\"Original\")\n",
        "cv2.imshow(\"Original Image\", image)\n",
        "print(\"Upscaled\")\n",
        "cv2.imshow(\"Upscaled Image\", resized_image)\n",
        "\n",
        "cv2.waitKey(0)\n",
        "cv2.destroyAllWindows()\n"
      ]
    },
    {
      "cell_type": "code",
      "execution_count": null,
      "metadata": {},
      "outputs": [],
      "source": []
    }
  ],
  "metadata": {
    "colab": {
      "provenance": []
    },
    "kernelspec": {
      "display_name": "Python 3",
      "name": "python3"
    },
    "language_info": {
      "codemirror_mode": {
        "name": "ipython",
        "version": 3
      },
      "file_extension": ".py",
      "mimetype": "text/x-python",
      "name": "python",
      "nbconvert_exporter": "python",
      "pygments_lexer": "ipython3",
      "version": "3.12.3"
    }
  },
  "nbformat": 4,
  "nbformat_minor": 0
}
